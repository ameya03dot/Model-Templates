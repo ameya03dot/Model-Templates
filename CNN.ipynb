{
 "cells": [
  {
   "cell_type": "code",
   "execution_count": 1,
   "metadata": {},
   "outputs": [],
   "source": [
    "import tensorflow as tf\n",
    "from keras.preprocessing.image import ImageDataGenerator"
   ]
  },
  {
   "cell_type": "code",
   "execution_count": 2,
   "metadata": {},
   "outputs": [
    {
     "data": {
      "text/plain": [
       "'2.2.0'"
      ]
     },
     "execution_count": 2,
     "metadata": {},
     "output_type": "execute_result"
    }
   ],
   "source": [
    "tf.__version__"
   ]
  },
  {
   "cell_type": "code",
   "execution_count": 3,
   "metadata": {},
   "outputs": [
    {
     "name": "stdout",
     "output_type": "stream",
     "text": [
      "Found 8000 images belonging to 2 classes.\n"
     ]
    }
   ],
   "source": [
    "#Pre_processing to remove overfitting the dataset\n",
    "\n",
    "#Augmentation\n",
    "\n",
    "train_datagen = ImageDataGenerator(\n",
    "                rescale = 1./255,\n",
    "                shear_range = 0.2,\n",
    "                zoom_range = 0.2,\n",
    "                horizontal_flip = True)\n",
    "\n",
    "training_set = train_datagen.flow_from_directory(\n",
    "                'dataset/training_set',\n",
    "                 target_size=(64,64),\n",
    "                 batch_size = 32,\n",
    "                  class_mode = 'binary')"
   ]
  },
  {
   "cell_type": "code",
   "execution_count": 4,
   "metadata": {},
   "outputs": [
    {
     "name": "stdout",
     "output_type": "stream",
     "text": [
      "Found 2000 images belonging to 2 classes.\n"
     ]
    }
   ],
   "source": [
    "test_datagen = ImageDataGenerator(rescale = 1./255)\n",
    "\n",
    "test_set = train_datagen.flow_from_directory(\n",
    "                 'dataset/test_set',\n",
    "                  target_size = (64,64),\n",
    "                  batch_size = 32,\n",
    "                  class_mode = 'binary')"
   ]
  },
  {
   "cell_type": "code",
   "execution_count": 5,
   "metadata": {},
   "outputs": [],
   "source": [
    "cnn = tf.keras.models.Sequential()"
   ]
  },
  {
   "cell_type": "code",
   "execution_count": 6,
   "metadata": {},
   "outputs": [],
   "source": [
    "cnn.add(tf.keras.layers.Conv2D(filters = 32,kernel_size=3,activation = 'relu',input_shape =[64,64,3]))"
   ]
  },
  {
   "cell_type": "code",
   "execution_count": 7,
   "metadata": {},
   "outputs": [],
   "source": [
    "cnn.add(tf.keras.layers.MaxPool2D(pool_size =2,strides =2))"
   ]
  },
  {
   "cell_type": "code",
   "execution_count": 8,
   "metadata": {},
   "outputs": [],
   "source": [
    "cnn.add(tf.keras.layers.Conv2D(filters = 32,kernel_size=3,activation = 'relu'))"
   ]
  },
  {
   "cell_type": "code",
   "execution_count": 9,
   "metadata": {},
   "outputs": [],
   "source": [
    "cnn.add(tf.keras.layers.MaxPool2D(pool_size =2,strides =2))"
   ]
  },
  {
   "cell_type": "code",
   "execution_count": 10,
   "metadata": {},
   "outputs": [],
   "source": [
    "cnn.add(tf.keras.layers.Flatten())"
   ]
  },
  {
   "cell_type": "code",
   "execution_count": 11,
   "metadata": {},
   "outputs": [],
   "source": [
    "cnn.add(tf.keras.layers.Dense(units =128,activation = 'relu'))#fully connected layer"
   ]
  },
  {
   "cell_type": "code",
   "execution_count": 12,
   "metadata": {},
   "outputs": [],
   "source": [
    "cnn.add(tf.keras.layers.Dense(units =1,activation = 'sigmoid'))#output layer"
   ]
  },
  {
   "cell_type": "code",
   "execution_count": 13,
   "metadata": {},
   "outputs": [],
   "source": [
    "cnn.compile(optimizer = 'adam',loss='binary_crossentropy',metrics =['accuracy'])"
   ]
  },
  {
   "cell_type": "code",
   "execution_count": 14,
   "metadata": {},
   "outputs": [
    {
     "name": "stdout",
     "output_type": "stream",
     "text": [
      "Epoch 1/25\n",
      "250/250 [==============================] - 93s 371ms/step - loss: 0.6652 - accuracy: 0.5949 - val_loss: 0.6173 - val_accuracy: 0.6815\n",
      "Epoch 2/25\n",
      "250/250 [==============================] - 88s 350ms/step - loss: 0.6119 - accuracy: 0.6643 - val_loss: 0.5825 - val_accuracy: 0.6920\n",
      "Epoch 3/25\n",
      "250/250 [==============================] - 104s 417ms/step - loss: 0.5705 - accuracy: 0.6979 - val_loss: 0.6134 - val_accuracy: 0.6875\n",
      "Epoch 4/25\n",
      "250/250 [==============================] - 103s 412ms/step - loss: 0.5483 - accuracy: 0.7221 - val_loss: 0.5491 - val_accuracy: 0.7120\n",
      "Epoch 5/25\n",
      "250/250 [==============================] - 104s 415ms/step - loss: 0.5248 - accuracy: 0.7415 - val_loss: 0.5369 - val_accuracy: 0.7235\n",
      "Epoch 6/25\n",
      "250/250 [==============================] - 88s 353ms/step - loss: 0.4924 - accuracy: 0.7650 - val_loss: 0.5115 - val_accuracy: 0.7635\n",
      "Epoch 7/25\n",
      "250/250 [==============================] - 91s 366ms/step - loss: 0.4805 - accuracy: 0.7719 - val_loss: 0.4975 - val_accuracy: 0.7545\n",
      "Epoch 8/25\n",
      "250/250 [==============================] - 103s 412ms/step - loss: 0.4559 - accuracy: 0.7820 - val_loss: 0.5413 - val_accuracy: 0.7350\n",
      "Epoch 9/25\n",
      "250/250 [==============================] - 103s 412ms/step - loss: 0.4389 - accuracy: 0.7876 - val_loss: 0.4904 - val_accuracy: 0.7650\n",
      "Epoch 10/25\n",
      "250/250 [==============================] - 103s 413ms/step - loss: 0.4240 - accuracy: 0.8066 - val_loss: 0.4812 - val_accuracy: 0.7740\n",
      "Epoch 11/25\n",
      "250/250 [==============================] - 104s 415ms/step - loss: 0.4037 - accuracy: 0.8091 - val_loss: 0.4715 - val_accuracy: 0.7870\n",
      "Epoch 12/25\n",
      "250/250 [==============================] - 102s 410ms/step - loss: 0.3906 - accuracy: 0.8241 - val_loss: 0.4956 - val_accuracy: 0.7695\n",
      "Epoch 13/25\n",
      "250/250 [==============================] - 98s 390ms/step - loss: 0.3768 - accuracy: 0.8255 - val_loss: 0.4843 - val_accuracy: 0.7830\n",
      "Epoch 14/25\n",
      "250/250 [==============================] - 97s 386ms/step - loss: 0.3660 - accuracy: 0.8386 - val_loss: 0.4809 - val_accuracy: 0.7755\n",
      "Epoch 15/25\n",
      "250/250 [==============================] - 99s 397ms/step - loss: 0.3636 - accuracy: 0.8364 - val_loss: 0.4823 - val_accuracy: 0.7805\n",
      "Epoch 16/25\n",
      "250/250 [==============================] - 94s 376ms/step - loss: 0.3444 - accuracy: 0.8456 - val_loss: 0.4578 - val_accuracy: 0.7955\n",
      "Epoch 17/25\n",
      "250/250 [==============================] - 89s 357ms/step - loss: 0.3208 - accuracy: 0.8572 - val_loss: 0.4955 - val_accuracy: 0.7840\n",
      "Epoch 18/25\n",
      "250/250 [==============================] - 90s 362ms/step - loss: 0.3147 - accuracy: 0.8664 - val_loss: 0.4985 - val_accuracy: 0.7745\n",
      "Epoch 19/25\n",
      "250/250 [==============================] - 88s 354ms/step - loss: 0.3004 - accuracy: 0.8734 - val_loss: 0.5026 - val_accuracy: 0.7830\n",
      "Epoch 20/25\n",
      "250/250 [==============================] - 87s 348ms/step - loss: 0.2882 - accuracy: 0.8808 - val_loss: 0.5018 - val_accuracy: 0.7770\n",
      "Epoch 21/25\n",
      "250/250 [==============================] - 87s 348ms/step - loss: 0.2717 - accuracy: 0.8874 - val_loss: 0.5122 - val_accuracy: 0.7900\n",
      "Epoch 22/25\n",
      "250/250 [==============================] - 87s 349ms/step - loss: 0.2539 - accuracy: 0.8931 - val_loss: 0.4813 - val_accuracy: 0.8020\n",
      "Epoch 23/25\n",
      "250/250 [==============================] - 89s 354ms/step - loss: 0.2484 - accuracy: 0.8970 - val_loss: 0.5383 - val_accuracy: 0.7865\n",
      "Epoch 24/25\n",
      "250/250 [==============================] - 88s 352ms/step - loss: 0.2332 - accuracy: 0.9057 - val_loss: 0.5392 - val_accuracy: 0.7880\n",
      "Epoch 25/25\n",
      "250/250 [==============================] - 88s 353ms/step - loss: 0.2250 - accuracy: 0.9095 - val_loss: 0.5640 - val_accuracy: 0.7720\n"
     ]
    },
    {
     "data": {
      "text/plain": [
       "<tensorflow.python.keras.callbacks.History at 0x2ab5289e748>"
      ]
     },
     "execution_count": 14,
     "metadata": {},
     "output_type": "execute_result"
    }
   ],
   "source": [
    "cnn.fit(training_set,validation_data = test_set,epochs = 25)"
   ]
  },
  {
   "cell_type": "code",
   "execution_count": 20,
   "metadata": {},
   "outputs": [
    {
     "name": "stdout",
     "output_type": "stream",
     "text": [
      "Cat\n"
     ]
    }
   ],
   "source": [
    "import numpy as np\n",
    "from keras.preprocessing import image\n",
    "\n",
    "test_image=image.load_img('dataset/single_prediction/cat_or_dog_2.jpg',target_size = (64,64))\n",
    "test_image=image.img_to_array(test_image)\n",
    "test_image= np.expand_dims(test_image,axis = 0)\n",
    "\n",
    "result = cnn.predict(test_image)\n",
    "\n",
    "training_set.class_indices\n",
    "\n",
    "if result[0][0]==1:\n",
    "    pred='Dog'\n",
    "else:\n",
    "    pred='Cat'\n",
    "print(pred)\n"
   ]
  },
  {
   "cell_type": "code",
   "execution_count": null,
   "metadata": {},
   "outputs": [],
   "source": []
  }
 ],
 "metadata": {
  "kernelspec": {
   "display_name": "Python 3",
   "language": "python",
   "name": "python3"
  },
  "language_info": {
   "codemirror_mode": {
    "name": "ipython",
    "version": 3
   },
   "file_extension": ".py",
   "mimetype": "text/x-python",
   "name": "python",
   "nbconvert_exporter": "python",
   "pygments_lexer": "ipython3",
   "version": "3.6.8"
  }
 },
 "nbformat": 4,
 "nbformat_minor": 4
}
